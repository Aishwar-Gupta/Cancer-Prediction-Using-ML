{
 "cells": [
  {
   "cell_type": "markdown",
   "id": "a47140b9-3d27-4245-b165-1aadf04ffd25",
   "metadata": {},
   "source": [
    "# DATA PREPARATION"
   ]
  },
  {
   "cell_type": "markdown",
   "id": "efb36c05-6d5c-4299-8b57-c2c108fccd73",
   "metadata": {},
   "source": [
    "I am using python, pandas, and matploylib for data preparation and visualization. For reading the CSV online directly from the google sheet, I was required to authenticate the google account so I downloaded the file. Please replace the file location below with the location URL to run the code. "
   ]
  },
  {
   "cell_type": "code",
   "execution_count": 58,
   "id": "2290883b-d7de-4173-ba2b-87cedaedcdd6",
   "metadata": {
    "scrolled": true
   },
   "outputs": [],
   "source": [
    "# Using pandas for working with data frames\n",
    "import pandas as pd\n",
    "\n",
    "# Stored the location of the csv file\n",
    "url = \"Desktop/dataset.csv\"\n",
    "\n",
    "# Created a dataframe using the CSV\n",
    "df = pd.read_csv(url)\n",
    "\n",
    "# Uncomment head to see the top few rows of data frame\n",
    "# df.head()"
   ]
  },
  {
   "cell_type": "markdown",
   "id": "d0aa08b4-bf95-4dc7-a095-beab03d90477",
   "metadata": {},
   "source": [
    "# DATA VISUALIZATION"
   ]
  },
  {
   "cell_type": "markdown",
   "id": "6f6a9a28-d1a6-4a81-8141-da07382f9d45",
   "metadata": {},
   "source": [
    "I am trying to visualize and analyze the data by grouping them and discovering the trends to find relationships."
   ]
  },
  {
   "cell_type": "code",
   "execution_count": 59,
   "id": "52b13163-550f-4f5f-b365-07f603dd5900",
   "metadata": {},
   "outputs": [
    {
     "data": {
      "text/html": [
       "<div>\n",
       "<style scoped>\n",
       "    .dataframe tbody tr th:only-of-type {\n",
       "        vertical-align: middle;\n",
       "    }\n",
       "\n",
       "    .dataframe tbody tr th {\n",
       "        vertical-align: top;\n",
       "    }\n",
       "\n",
       "    .dataframe thead th {\n",
       "        text-align: right;\n",
       "    }\n",
       "</style>\n",
       "<table border=\"1\" class=\"dataframe\">\n",
       "  <thead>\n",
       "    <tr style=\"text-align: right;\">\n",
       "      <th></th>\n",
       "      <th>Session_num</th>\n",
       "      <th>VisitCount</th>\n",
       "      <th>ServiceDurationInSeconds</th>\n",
       "    </tr>\n",
       "  </thead>\n",
       "  <tbody>\n",
       "    <tr>\n",
       "      <th>count</th>\n",
       "      <td>6637.000000</td>\n",
       "      <td>6637.000000</td>\n",
       "      <td>6637.000000</td>\n",
       "    </tr>\n",
       "    <tr>\n",
       "      <th>mean</th>\n",
       "      <td>193.669429</td>\n",
       "      <td>6.830646</td>\n",
       "      <td>801.910954</td>\n",
       "    </tr>\n",
       "    <tr>\n",
       "      <th>std</th>\n",
       "      <td>111.089056</td>\n",
       "      <td>15.588881</td>\n",
       "      <td>372.913355</td>\n",
       "    </tr>\n",
       "    <tr>\n",
       "      <th>min</th>\n",
       "      <td>1.000000</td>\n",
       "      <td>1.000000</td>\n",
       "      <td>180.000000</td>\n",
       "    </tr>\n",
       "    <tr>\n",
       "      <th>25%</th>\n",
       "      <td>96.000000</td>\n",
       "      <td>1.000000</td>\n",
       "      <td>540.000000</td>\n",
       "    </tr>\n",
       "    <tr>\n",
       "      <th>50%</th>\n",
       "      <td>194.000000</td>\n",
       "      <td>2.000000</td>\n",
       "      <td>725.000000</td>\n",
       "    </tr>\n",
       "    <tr>\n",
       "      <th>75%</th>\n",
       "      <td>292.000000</td>\n",
       "      <td>6.000000</td>\n",
       "      <td>975.000000</td>\n",
       "    </tr>\n",
       "    <tr>\n",
       "      <th>max</th>\n",
       "      <td>381.000000</td>\n",
       "      <td>170.000000</td>\n",
       "      <td>3457.000000</td>\n",
       "    </tr>\n",
       "  </tbody>\n",
       "</table>\n",
       "</div>"
      ],
      "text/plain": [
       "       Session_num   VisitCount  ServiceDurationInSeconds\n",
       "count  6637.000000  6637.000000               6637.000000\n",
       "mean    193.669429     6.830646                801.910954\n",
       "std     111.089056    15.588881                372.913355\n",
       "min       1.000000     1.000000                180.000000\n",
       "25%      96.000000     1.000000                540.000000\n",
       "50%     194.000000     2.000000                725.000000\n",
       "75%     292.000000     6.000000                975.000000\n",
       "max     381.000000   170.000000               3457.000000"
      ]
     },
     "execution_count": 59,
     "metadata": {},
     "output_type": "execute_result"
    }
   ],
   "source": [
    "# Get a general description of the dataframe including mean, min, max, etc.\n",
    "df.describe()"
   ]
  },
  {
   "cell_type": "markdown",
   "id": "34dd36d5-6917-494f-9d4b-3074889821c6",
   "metadata": {},
   "source": [
    "*Grouping -* I am using groupby to see the total service time for each day of the week according to the time of the day AM/PM"
   ]
  },
  {
   "cell_type": "code",
   "execution_count": 60,
   "id": "b0419eea-c759-4f40-864e-0ca65b62b73b",
   "metadata": {},
   "outputs": [
    {
     "name": "stdout",
     "output_type": "stream",
     "text": [
      "Day\n",
      "Friday        123538\n",
      "Saturday     2751822\n",
      "Tuesday        76855\n",
      "Wednesday    2370068\n",
      "Name: ServiceDurationInSeconds, dtype: int64\n"
     ]
    }
   ],
   "source": [
    "# Grouping to see total service time everyday of week\n",
    "daily = df.groupby(\"Day\")[\"ServiceDurationInSeconds\"].sum()\n",
    "\n",
    "print(daily)"
   ]
  },
  {
   "cell_type": "code",
   "execution_count": 61,
   "id": "047df8c4-8bbb-4b22-bc44-cbeea86ae44b",
   "metadata": {},
   "outputs": [
    {
     "name": "stdout",
     "output_type": "stream",
     "text": [
      "TimeInDay\n",
      "afternoon    2654836\n",
      "morning      2667447\n",
      "Name: ServiceDurationInSeconds, dtype: int64\n"
     ]
    }
   ],
   "source": [
    "# Grouping to see the total service time according to AM/PM\n",
    "AM_PM = df.groupby(\"TimeInDay\")[\"ServiceDurationInSeconds\"].sum()\n",
    "\n",
    "print(AM_PM)"
   ]
  },
  {
   "cell_type": "code",
   "execution_count": 62,
   "id": "f26ec0fc-9e46-4fdb-9222-5c266a9c0beb",
   "metadata": {},
   "outputs": [
    {
     "name": "stdout",
     "output_type": "stream",
     "text": [
      "Day        TimeInDay\n",
      "Friday     afternoon      58667\n",
      "           morning        64871\n",
      "Saturday   afternoon    1404398\n",
      "           morning      1347424\n",
      "Tuesday    afternoon      36038\n",
      "           morning        40817\n",
      "Wednesday  afternoon    1155733\n",
      "           morning      1214335\n",
      "Name: ServiceDurationInSeconds, dtype: int64\n"
     ]
    }
   ],
   "source": [
    "# Grouping data to see the total service time for each day according to AM/PM\n",
    "daily_visits = df.groupby([\"Day\",\"TimeInDay\"])[\"ServiceDurationInSeconds\"].sum()\n",
    "\n",
    "print(daily_visits)"
   ]
  },
  {
   "cell_type": "markdown",
   "id": "fabed696-4e90-4e65-aad8-f201b6a8e951",
   "metadata": {},
   "source": [
    "# Feature Engineering"
   ]
  },
  {
   "cell_type": "markdown",
   "id": "cc95db4d-070c-464a-80e9-d0f4e997bb08",
   "metadata": {},
   "source": [
    "Using One Hot Encoding to transform categorical data into numerical data and add new columns in the data frame for IsWeekEnd and WorkDay to add features in model."
   ]
  },
  {
   "cell_type": "code",
   "execution_count": 63,
   "id": "387c8140-433e-482b-82f2-5d4947d08121",
   "metadata": {},
   "outputs": [],
   "source": [
    "# Transform AM/PM into 0 and 1\n",
    "df[\"TimeInDay\"] = (df[\"TimeInDay\"] == \"morning\").astype(int)\n",
    "\n",
    "# Map to transform days of the week\n",
    "week_day = {\n",
    "    \"Monday\": 0, \n",
    "    \"Tuesday\": 1, \n",
    "    \"Wednesday\": 2, \n",
    "    \"Thursday\": 3, \n",
    "    \"Friday\": 4, \n",
    "    \"Saturday\": 5, \n",
    "    \"Sunday\": 6}\n",
    "\n",
    "# Used the map to encode days of the week\n",
    "df[\"Day\"] = df[\"Day\"].map(week_day)\n",
    "\n",
    "# df.head(2000)"
   ]
  },
  {
   "cell_type": "code",
   "execution_count": 64,
   "id": "b3d8648b-50dc-4347-9b12-e9a20dab4392",
   "metadata": {},
   "outputs": [
    {
     "name": "stdout",
     "output_type": "stream",
     "text": [
      "Day  TimeInDay\n",
      "1    0              36038\n",
      "     1              40817\n",
      "2    0            1155733\n",
      "     1            1214335\n",
      "4    0              58667\n",
      "     1              64871\n",
      "5    0            1404398\n",
      "     1            1347424\n",
      "Name: ServiceDurationInSeconds, dtype: int64\n"
     ]
    }
   ],
   "source": [
    "# See the grouping with encoded data\n",
    "daily_AM_PM = df.groupby([\"Day\", \"TimeInDay\"])[\"ServiceDurationInSeconds\"].sum()\n",
    "print(daily_AM_PM)"
   ]
  },
  {
   "cell_type": "code",
   "execution_count": 65,
   "id": "d957bcfd-1055-4e17-b374-248a2632105f",
   "metadata": {},
   "outputs": [
    {
     "data": {
      "text/html": [
       "<div>\n",
       "<style scoped>\n",
       "    .dataframe tbody tr th:only-of-type {\n",
       "        vertical-align: middle;\n",
       "    }\n",
       "\n",
       "    .dataframe tbody tr th {\n",
       "        vertical-align: top;\n",
       "    }\n",
       "\n",
       "    .dataframe thead th {\n",
       "        text-align: right;\n",
       "    }\n",
       "</style>\n",
       "<table border=\"1\" class=\"dataframe\">\n",
       "  <thead>\n",
       "    <tr style=\"text-align: right;\">\n",
       "      <th></th>\n",
       "      <th>Day</th>\n",
       "      <th>TimeInDay</th>\n",
       "      <th>ServiceDurationInSeconds</th>\n",
       "    </tr>\n",
       "  </thead>\n",
       "  <tbody>\n",
       "    <tr>\n",
       "      <th>0</th>\n",
       "      <td>1</td>\n",
       "      <td>0</td>\n",
       "      <td>36038</td>\n",
       "    </tr>\n",
       "    <tr>\n",
       "      <th>1</th>\n",
       "      <td>1</td>\n",
       "      <td>1</td>\n",
       "      <td>40817</td>\n",
       "    </tr>\n",
       "    <tr>\n",
       "      <th>2</th>\n",
       "      <td>2</td>\n",
       "      <td>0</td>\n",
       "      <td>1155733</td>\n",
       "    </tr>\n",
       "    <tr>\n",
       "      <th>3</th>\n",
       "      <td>2</td>\n",
       "      <td>1</td>\n",
       "      <td>1214335</td>\n",
       "    </tr>\n",
       "    <tr>\n",
       "      <th>4</th>\n",
       "      <td>4</td>\n",
       "      <td>0</td>\n",
       "      <td>58667</td>\n",
       "    </tr>\n",
       "    <tr>\n",
       "      <th>5</th>\n",
       "      <td>4</td>\n",
       "      <td>1</td>\n",
       "      <td>64871</td>\n",
       "    </tr>\n",
       "    <tr>\n",
       "      <th>6</th>\n",
       "      <td>5</td>\n",
       "      <td>0</td>\n",
       "      <td>1404398</td>\n",
       "    </tr>\n",
       "    <tr>\n",
       "      <th>7</th>\n",
       "      <td>5</td>\n",
       "      <td>1</td>\n",
       "      <td>1347424</td>\n",
       "    </tr>\n",
       "  </tbody>\n",
       "</table>\n",
       "</div>"
      ],
      "text/plain": [
       "   Day  TimeInDay  ServiceDurationInSeconds\n",
       "0    1          0                     36038\n",
       "1    1          1                     40817\n",
       "2    2          0                   1155733\n",
       "3    2          1                   1214335\n",
       "4    4          0                     58667\n",
       "5    4          1                     64871\n",
       "6    5          0                   1404398\n",
       "7    5          1                   1347424"
      ]
     },
     "execution_count": 65,
     "metadata": {},
     "output_type": "execute_result"
    }
   ],
   "source": [
    "# Created a new data frame with the grouped data for plotting\n",
    "new_df = daily_AM_PM.reset_index()\n",
    "new_df.head(8)"
   ]
  },
  {
   "cell_type": "code",
   "execution_count": 66,
   "id": "3ec439e9-6367-4caf-8476-4557955c6cdf",
   "metadata": {},
   "outputs": [
    {
     "data": {
      "text/plain": [
       "<Axes: >"
      ]
     },
     "execution_count": 66,
     "metadata": {},
     "output_type": "execute_result"
    },
    {
     "data": {
      "image/png": "[encoded data removed]",
      "text/plain": [
       "<Figure size 640x480 with 1 Axes>"
      ]
     },
     "metadata": {},
     "output_type": "display_data"
    }
   ],
   "source": [
    "# Plot for the service time sum for each day of the week\n",
    "new_df.plot(kind='line', y = ['Day','ServiceDurationInSeconds'], marker = 'o')"
   ]
  },
  {
   "cell_type": "markdown",
   "id": "09b7323a-4f35-4b97-9176-719eea6ac106",
   "metadata": {},
   "source": [
    "# DATA ANALYSIS"
   ]
  },
  {
   "cell_type": "raw",
   "id": "af70bf9b-d1e9-4618-93c7-05d74f72ee0f",
   "metadata": {},
   "source": [
    "Below are the few inferences that can be made from the data:\n",
    "- More service duration on Wednesdays and Saturdays.\n",
    "- Saturday afternoon being the busiest followed by saturday morning.\n",
    "- Probably the clinic stays close on Monday, Thursday, and Sunday since there are 0 visits.\n",
    "- Weekends see more visits compared to weekends.\n",
    "- Higher rate of Skin Cancer among females.\n",
    "- Higher rate of Malignant Cancer among males."
   ]
  },
  {
   "cell_type": "code",
   "execution_count": 67,
   "id": "453351b0-2b95-4244-8455-e3df90707437",
   "metadata": {},
   "outputs": [
    {
     "name": "stdout",
     "output_type": "stream",
     "text": [
      "Gender  SkinCancer\n",
      "F       False         3885\n",
      "        True            58\n",
      "M       False         2685\n",
      "        True             9\n",
      "Name: SkinCancer, dtype: int64\n"
     ]
    }
   ],
   "source": [
    "# Grouping to check skin cancer rate\n",
    "cancer_rate_gender = df.groupby([\"Gender\",\"SkinCancer\"])[\"SkinCancer\"].count()\n",
    "\n",
    "print(cancer_rate_gender)"
   ]
  },
  {
   "cell_type": "code",
   "execution_count": 68,
   "id": "cfb404c5-47ea-4846-a73d-8eb3227b8108",
   "metadata": {},
   "outputs": [
    {
     "name": "stdout",
     "output_type": "stream",
     "text": [
      "Gender  MalignantCancer\n",
      "F       False              3586\n",
      "        True                357\n",
      "M       False              2431\n",
      "        True                263\n",
      "Name: MalignantCancer, dtype: int64\n"
     ]
    }
   ],
   "source": [
    "# Grouping to check malignant cancer rate\n",
    "malignant_rate_gender = df.groupby([\"Gender\",\"MalignantCancer\"])[\"MalignantCancer\"].count()\n",
    "\n",
    "print(malignant_rate_gender)"
   ]
  },
  {
   "cell_type": "code",
   "execution_count": 69,
   "id": "616b98b4-df43-426f-900c-3dd6ab03ffa0",
   "metadata": {},
   "outputs": [
    {
     "name": "stdout",
     "output_type": "stream",
     "text": [
      "IsWorkDay\n",
      "False    3438\n",
      "True     3199\n",
      "Name: VisitCount, dtype: int64\n"
     ]
    }
   ],
   "source": [
    "# Grouping to see the number of visits on weekdays and weekends\n",
    "workday_visits = df.groupby([\"IsWorkDay\"])[\"VisitCount\"].count()\n",
    "\n",
    "print(workday_visits)"
   ]
  },
  {
   "cell_type": "markdown",
   "id": "7edf0551-295d-40dd-9b9d-6ff01ffcdadf",
   "metadata": {},
   "source": [
    "# PREDICTION MODEL"
   ]
  },
  {
   "cell_type": "markdown",
   "id": "c3d63655-8329-46d4-88f4-14abd6af67a2",
   "metadata": {},
   "source": [
    "Used scikit learn for creatng models. Experimented with multiple models to find the best estimator. Added new feature columns while encoding it to align with the model requirements."
   ]
  },
  {
   "cell_type": "code",
   "execution_count": 81,
   "id": "1ecd4a75-b4be-4366-9430-5d05c0a396a9",
   "metadata": {},
   "outputs": [],
   "source": [
    "# Imports\n",
    "# Train_test_split to split the dataset into training and testing data\n",
    "from sklearn.model_selection import train_test_split\n",
    "\n",
    "# To calculate the mean absolute error between prediction and actual data\n",
    "from sklearn.metrics import mean_absolute_error"
   ]
  },
  {
   "cell_type": "code",
   "execution_count": 82,
   "id": "f122811d-f136-4d3e-b8fe-e848ef59e6e0",
   "metadata": {},
   "outputs": [],
   "source": [
    "# Creating a new feature column for the day being a weekend falling on Saturday or Sunday\n",
    "df[\"IsWeekEnd\"] = df[\"Day\"].isin([5,6]).astype(int)\n",
    "\n",
    "# Creating a new feature column for the day being a workday\n",
    "df[\"WorkDay\"] = df[\"IsWorkDay\"].astype(int)\n",
    "\n",
    "# df.head()"
   ]
  },
  {
   "cell_type": "code",
   "execution_count": 109,
   "id": "835a705e-569d-4f71-a32d-fe713c1c6aef",
   "metadata": {},
   "outputs": [],
   "source": [
    "# Creating features and labels for training the model\n",
    "features = [\"Day\",\"TimeInDay\",\"VisitCount\",\"IsWeekEnd\",\"WorkDay\"]\n",
    "X = df[features]\n",
    "y = df[\"ServiceDurationInSeconds\"]\n",
    "\n",
    "# Spliting the data set for training (75%) and testing (25%) \n",
    "X_train, X_test, y_train, y_test = train_test_split(X, y, random_state = 42, test_size = 0.20, shuffle = True)"
   ]
  },
  {
   "cell_type": "markdown",
   "id": "7e01adc1-6479-48a3-944c-016e73c4d20d",
   "metadata": {},
   "source": [
    "**Using Linear Regression**"
   ]
  },
  {
   "cell_type": "code",
   "execution_count": 110,
   "id": "6822e298-9f04-450a-a5e0-4841aca8623a",
   "metadata": {},
   "outputs": [
    {
     "name": "stdout",
     "output_type": "stream",
     "text": [
      "275.64939725601596\n"
     ]
    }
   ],
   "source": [
    "# Importing scikit learn to use the machine learning models\n",
    "from sklearn.linear_model import LinearRegression\n",
    "\n",
    "# Using simple regression model\n",
    "model = LinearRegression()\n",
    "\n",
    "# Training model\n",
    "model.fit(X_train, y_train)\n",
    "\n",
    "# Predicting\n",
    "predict = model.predict(X_test)\n",
    "# print(predict)\n",
    "\n",
    "# Calculating the mean error to know how off are the predictions\n",
    "mae = mean_absolute_error(y_test, predict)\n",
    "print(mae)"
   ]
  },
  {
   "cell_type": "markdown",
   "id": "e6fe0d11-5171-48ad-83b8-c55b3a2469d8",
   "metadata": {},
   "source": [
    "**RESULTS -** By using simple linear regression we can see that the mean absolute error is pretty high in predctions."
   ]
  },
  {
   "cell_type": "markdown",
   "id": "1cae97cb-f490-49ab-a9ee-35a66817d9e8",
   "metadata": {},
   "source": [
    "**Using Decision Tree Regressor**"
   ]
  },
  {
   "cell_type": "code",
   "execution_count": 111,
   "id": "93c12537-41b5-4195-bbbf-5c7a9821302e",
   "metadata": {},
   "outputs": [
    {
     "name": "stdout",
     "output_type": "stream",
     "text": [
      "277.4882068886973\n"
     ]
    }
   ],
   "source": [
    "from sklearn.tree import DecisionTreeRegressor\n",
    "model = DecisionTreeRegressor()\n",
    "model.fit(X_train, y_train)\n",
    "predict = model.predict(X_test)\n",
    "mae = mean_absolute_error(y_test, predict)\n",
    "print(mae)"
   ]
  },
  {
   "cell_type": "markdown",
   "id": "c189efd1-176a-43cc-a0c7-3c518ee90eb2",
   "metadata": {},
   "source": [
    "**Using Support Vector Regression**"
   ]
  },
  {
   "cell_type": "code",
   "execution_count": 112,
   "id": "b10d39cf-9a69-454a-9a1f-a89328aa955b",
   "metadata": {},
   "outputs": [
    {
     "name": "stdout",
     "output_type": "stream",
     "text": [
      "269.948896181301\n"
     ]
    }
   ],
   "source": [
    "from sklearn.svm import SVR\n",
    "model = SVR(C=2.0, epsilon=0.8)\n",
    "model.fit(X_train, y_train)\n",
    "predict_svr = model.predict(X_test)\n",
    "mae_svr = mean_absolute_error(y_test, predict_svr)\n",
    "print(mae_svr)"
   ]
  },
  {
   "cell_type": "markdown",
   "id": "bada1d4e-3cbc-438e-a481-8e0b9452694e",
   "metadata": {},
   "source": [
    "**Using Support Vector Classification**"
   ]
  },
  {
   "cell_type": "code",
   "execution_count": 113,
   "id": "a06a9fa7-32e3-4fa7-9c56-0799087c6d18",
   "metadata": {},
   "outputs": [
    {
     "name": "stdout",
     "output_type": "stream",
     "text": [
      "284.80647590361446\n"
     ]
    }
   ],
   "source": [
    "from sklearn.svm import SVC\n",
    "model = SVC()\n",
    "model.fit(X_train, y_train)\n",
    "predict_calibrate = model.predict(X_test)\n",
    "mae_c = mean_absolute_error(y_test, predict_calibrate)\n",
    "print(mae_c)"
   ]
  },
  {
   "cell_type": "markdown",
   "id": "da86dd4c-cbe5-46ae-95ec-0231abc1faee",
   "metadata": {},
   "source": [
    "**Using Random Forest**"
   ]
  },
  {
   "cell_type": "code",
   "execution_count": 115,
   "id": "c4e3f085-7a9e-4583-a65c-146ac9ed812b",
   "metadata": {},
   "outputs": [
    {
     "name": "stdout",
     "output_type": "stream",
     "text": [
      "275.66981461648413\n"
     ]
    }
   ],
   "source": [
    "from sklearn.ensemble import RandomForestRegressor\n",
    "model = RandomForestRegressor(n_estimators=100, random_state=42)\n",
    "model.fit(X_train, y_train)\n",
    "forest_predict = model.predict(X_test)\n",
    "mae = mean_absolute_error(y_test, forest_predict)\n",
    "print(mae)"
   ]
  },
  {
   "cell_type": "markdown",
   "id": "06bd3d75-9439-4aa5-8619-dabdd7662d8e",
   "metadata": {},
   "source": [
    "# RESULTS"
   ]
  },
  {
   "cell_type": "raw",
   "id": "3f1b191b-1998-4737-adec-bff199a682e6",
   "metadata": {},
   "source": [
    "As we can see from the above models, most models that are pretty accurate and take into consideration multiple scenarios are predicting results with an average mean absolute error of around 275, with the best results being achieved by the Support Vector Regressor (SVR) model. It makes sense since it uses vectors as compared to just a standard line of best fit. Even though the Random Forest uses multiple decision trees, we can see that it only performed a little better than the Decision Tree Regressor, which uses a single tree. In my opinion, SVR would be producing the best results when compared to the models I have previously implemented. Changing the size of the training and testing data after splitting produces insignificant result changes and does not effect the mean absolute error by large in any of the models. Another good approach would be to use Splines over a bunch of data points and use this new curve as a regression curve. This approach might result in a better mean absolute error as the splines are over a smaller intervals reducing the impacts of outliers.\n",
    "\n",
    "We are unable to use Platt Scaling as it is generally applicable to classification problems, such as support vector machines, rather than a regression problem where the output is already continuous. In order to further calibrate the model and produce better results, we might need to adjust the features of the dataset or add more features that directly impact the outcome to create a stronger relationship between the two. Even though Weekday, weekend, and visits are strong features, we might need more concrete information as these dont directly impact the service time. Factors like diagnosis or treatment might impact the service time more accurately and be a better predictor. Possibly adding more data into the data set also improve the efficiency of the system and help us in predicting accurately. By tweaking the parameters in the model to calibrate the results, such as increasing the random state in Random Forest or the C and epsilon in SVR, we were able to get a better result, but in overall the changes did not improve the mean absolute error of the models prediction by more than 5. Suggesting a larger data set is needed for training along with tightly coupled features that can directly impact the results."
   ]
  }
 ],
 "metadata": {
  "kernelspec": {
   "display_name": "Python 3 (ipykernel)",
   "language": "python",
   "name": "python3"
  },
  "language_info": {
   "codemirror_mode": {
    "name": "ipython",
    "version": 3
   },
   "file_extension": ".py",
   "mimetype": "text/x-python",
   "name": "python",
   "nbconvert_exporter": "python",
   "pygments_lexer": "ipython3",
   "version": "3.12.2"
  }
 },
 "nbformat": 4,
 "nbformat_minor": 5
}
